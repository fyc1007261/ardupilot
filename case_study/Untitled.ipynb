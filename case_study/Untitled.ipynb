{
 "cells": [
  {
   "cell_type": "code",
   "execution_count": 35,
   "id": "a363578a",
   "metadata": {},
   "outputs": [],
   "source": [
    "import numpy as np\n",
    "import pandas as pd\n",
    "import matplotlib.pyplot as plt\n",
    "import copy"
   ]
  },
  {
   "cell_type": "code",
   "execution_count": 36,
   "id": "aba5d651",
   "metadata": {},
   "outputs": [
    {
     "data": {
      "text/plain": [
       "array([  3,   6,   9,  11,  12,  15,  18,  21,  24,  27,  30,  36,  39,\n",
       "        41,  45,  48,  51,  54,  57,  60,  63,  66,  69,  70,  72,  75,\n",
       "        78,  81,  84,  87,  90,  96,  99, 105, 108, 111, 114, 117, 120,\n",
       "       123, 126, 180, 200, 205, 253])"
      ]
     },
     "execution_count": 36,
     "metadata": {},
     "output_type": "execute_result"
    }
   ],
   "source": [
    "filename = ['1.csv', '2.csv', '3.csv', '4.csv', '5.csv']\n",
    "exec_time_dfs = []\n",
    "for i, name in enumerate(filename):\n",
    "    exec_time_df = pd.read_csv(\"../\" + name)\n",
    "    not_arr = [0, 210, 215, 220, 225, 230, 235, 236,240, 242, 245, 248, 249, 250, 252]\n",
    "    exec_time_df = exec_time_df[~exec_time_df['prio'].isin(not_arr)]\n",
    "    exec_time_df.sort_values(by='prio', inplace=True)\n",
    "    exec_time_dfs.append(exec_time_df)\n",
    "prios = exec_time_dfs[0]['prio'].drop_duplicates()\n",
    "prios = np.array(prios)\n",
    "prios"
   ]
  },
  {
   "cell_type": "code",
   "execution_count": 37,
   "id": "e1ee6bb6",
   "metadata": {},
   "outputs": [
    {
     "data": {
      "text/html": [
       "<div>\n",
       "<style scoped>\n",
       "    .dataframe tbody tr th:only-of-type {\n",
       "        vertical-align: middle;\n",
       "    }\n",
       "\n",
       "    .dataframe tbody tr th {\n",
       "        vertical-align: top;\n",
       "    }\n",
       "\n",
       "    .dataframe thead th {\n",
       "        text-align: right;\n",
       "    }\n",
       "</style>\n",
       "<table border=\"1\" class=\"dataframe\">\n",
       "  <thead>\n",
       "    <tr style=\"text-align: right;\">\n",
       "      <th></th>\n",
       "      <th>prio</th>\n",
       "      <th>tm</th>\n",
       "      <th>tick</th>\n",
       "    </tr>\n",
       "  </thead>\n",
       "  <tbody>\n",
       "    <tr>\n",
       "      <th>1053528</th>\n",
       "      <td>6</td>\n",
       "      <td>hit</td>\n",
       "      <td>39159</td>\n",
       "    </tr>\n",
       "    <tr>\n",
       "      <th>2927068</th>\n",
       "      <td>6</td>\n",
       "      <td>hit</td>\n",
       "      <td>43254</td>\n",
       "    </tr>\n",
       "    <tr>\n",
       "      <th>2922304</th>\n",
       "      <td>6</td>\n",
       "      <td>hit</td>\n",
       "      <td>43078</td>\n",
       "    </tr>\n",
       "    <tr>\n",
       "      <th>1062316</th>\n",
       "      <td>6</td>\n",
       "      <td>hit</td>\n",
       "      <td>39484</td>\n",
       "    </tr>\n",
       "    <tr>\n",
       "      <th>2923876</th>\n",
       "      <td>6</td>\n",
       "      <td>hit</td>\n",
       "      <td>43136</td>\n",
       "    </tr>\n",
       "    <tr>\n",
       "      <th>...</th>\n",
       "      <td>...</td>\n",
       "      <td>...</td>\n",
       "      <td>...</td>\n",
       "    </tr>\n",
       "    <tr>\n",
       "      <th>2904172</th>\n",
       "      <td>253</td>\n",
       "      <td>hit</td>\n",
       "      <td>42401</td>\n",
       "    </tr>\n",
       "    <tr>\n",
       "      <th>1549838</th>\n",
       "      <td>253</td>\n",
       "      <td>hit</td>\n",
       "      <td>57601</td>\n",
       "    </tr>\n",
       "    <tr>\n",
       "      <th>1646702</th>\n",
       "      <td>253</td>\n",
       "      <td>hit</td>\n",
       "      <td>61201</td>\n",
       "    </tr>\n",
       "    <tr>\n",
       "      <th>172216</th>\n",
       "      <td>253</td>\n",
       "      <td>hit</td>\n",
       "      <td>6401</td>\n",
       "    </tr>\n",
       "    <tr>\n",
       "      <th>1022464</th>\n",
       "      <td>253</td>\n",
       "      <td>hit</td>\n",
       "      <td>38001</td>\n",
       "    </tr>\n",
       "  </tbody>\n",
       "</table>\n",
       "<p>1272420 rows × 3 columns</p>\n",
       "</div>"
      ],
      "text/plain": [
       "         prio   tm   tick\n",
       "1053528     6  hit  39159\n",
       "2927068     6  hit  43254\n",
       "2922304     6  hit  43078\n",
       "1062316     6  hit  39484\n",
       "2923876     6  hit  43136\n",
       "...       ...  ...    ...\n",
       "2904172   253  hit  42401\n",
       "1549838   253  hit  57601\n",
       "1646702   253  hit  61201\n",
       "172216    253  hit   6401\n",
       "1022464   253  hit  38001\n",
       "\n",
       "[1272420 rows x 3 columns]"
      ]
     },
     "execution_count": 37,
     "metadata": {},
     "output_type": "execute_result"
    }
   ],
   "source": [
    "hm_dfs = []\n",
    "for i in range(len(filename)):\n",
    "    hm_df = exec_time_dfs[i][exec_time_dfs[i]['tm'].isin(['hit', 'miss'])]\n",
    "    hm_dfs.append(hm_df)\n",
    "hm_dfs[0]"
   ]
  },
  {
   "cell_type": "code",
   "execution_count": 38,
   "id": "d15e1801",
   "metadata": {},
   "outputs": [
    {
     "name": "stderr",
     "output_type": "stream",
     "text": [
      "/tmp/ipykernel_637/1109762974.py:4: SettingWithCopyWarning: \n",
      "A value is trying to be set on a copy of a slice from a DataFrame.\n",
      "Try using .loc[row_indexer,col_indexer] = value instead\n",
      "\n",
      "See the caveats in the documentation: https://pandas.pydata.org/pandas-docs/stable/user_guide/indexing.html#returning-a-view-versus-a-copy\n",
      "  tm_df['tm'] = tm_df['tm'].astype(int)\n"
     ]
    }
   ],
   "source": [
    "tm_dfs = []\n",
    "for i in range(len(filename)):\n",
    "    tm_df = exec_time_dfs[i][~exec_time_dfs[i]['tm'].isin(['hit', 'miss'])]\n",
    "    tm_df['tm'] = tm_df['tm'].astype(int)\n",
    "    tm_dfs.append(copy.deepcopy(tm_df))"
   ]
  },
  {
   "cell_type": "code",
   "execution_count": 39,
   "id": "a96482c5",
   "metadata": {},
   "outputs": [],
   "source": [
    "# threshold = [535, 2063, 406, 541, 580, 495, 873, 524, 178, 716, 208, 449, 468, 534, 536, 1607, 1330, 1074, 354, 231, 477, 378, 542, 280, 146, 348, 378, 274, 251, 532, 720, 521, 151, 2, 513, 286, 72, 278, 276, 355, 455,312, 200, 826, 3593]\n",
    "periods = [20000, 2500, 20000, 5000, 2500, 2500, 20000, 100000, 20000, 20000, 50000, 20000, 100000, 100000, 100000, 100000, 2500, 2500, 142857, 100000, 100000, 20000, 100000, 2500, 100000, 20000, 20000, 100000, 100000, 100000, 333333, 1000000, 333333, 10000000, 20000, 2500, 10000000, 200000, 1000000, 100000, 20000, 20000, 20000, 2500, 1000000]"
   ]
  },
  {
   "cell_type": "code",
   "execution_count": 40,
   "id": "52be8265",
   "metadata": {},
   "outputs": [
    {
     "data": {
      "text/plain": [
       "45"
      ]
     },
     "execution_count": 40,
     "metadata": {},
     "output_type": "execute_result"
    }
   ],
   "source": [
    "len(periods)"
   ]
  },
  {
   "cell_type": "code",
   "execution_count": 41,
   "id": "82aa819d",
   "metadata": {},
   "outputs": [
    {
     "data": {
      "text/plain": [
       "45"
      ]
     },
     "execution_count": 41,
     "metadata": {},
     "output_type": "execute_result"
    }
   ],
   "source": [
    "len(prios)"
   ]
  },
  {
   "cell_type": "code",
   "execution_count": 42,
   "id": "684e5bf7",
   "metadata": {},
   "outputs": [
    {
     "name": "stderr",
     "output_type": "stream",
     "text": [
      "/tmp/ipykernel_637/216598118.py:3: RuntimeWarning: invalid value encountered in long_scalars\n",
      "  hit_rate = float((dfidx[dfidx['tm'] == 'hit']['tm'].count()) / dfidx['tm'].count())\n"
     ]
    },
    {
     "name": "stdout",
     "output_type": "stream",
     "text": [
      "3 nan\n",
      "6 0.9991625849265287\n",
      "9 1.0\n",
      "11 1.0\n",
      "12 0.9998814959945647\n",
      "15 0.9998893962615937\n",
      "18 1.0\n",
      "21 1.0\n",
      "24 1.0\n",
      "27 1.0\n",
      "30 1.0\n",
      "36 1.0\n",
      "39 1.0\n",
      "41 1.0\n",
      "45 1.0\n",
      "48 1.0\n",
      "51 0.9998893962615937\n",
      "54 0.9999288975967388\n",
      "57 1.0\n",
      "60 1.0\n",
      "63 1.0\n",
      "66 1.0\n",
      "69 1.0\n",
      "70 0.999976299198913\n",
      "72 1.0\n",
      "75 1.0\n",
      "78 1.0\n",
      "81 1.0\n",
      "84 1.0\n",
      "87 1.0\n",
      "90 1.0\n",
      "96 1.0\n",
      "99 1.0\n",
      "105 1.0\n",
      "108 1.0\n",
      "111 0.9999288975967388\n",
      "114 1.0\n",
      "117 1.0\n",
      "120 1.0\n",
      "123 1.0\n",
      "126 1.0\n",
      "180 1.0\n",
      "200 1.0\n",
      "205 0.9999130970626807\n",
      "253 1.0\n"
     ]
    }
   ],
   "source": [
    "for idx, prio in enumerate(prios):\n",
    "    dfidx = hm_dfs[2][hm_dfs[2]['prio'] == prio]\n",
    "    hit_rate = float((dfidx[dfidx['tm'] == 'hit']['tm'].count()) / dfidx['tm'].count())\n",
    "    print(prio, hit_rate)\n"
   ]
  },
  {
   "cell_type": "code",
   "execution_count": 43,
   "id": "3241f6bc",
   "metadata": {},
   "outputs": [
    {
     "name": "stdout",
     "output_type": "stream",
     "text": [
      "3 nan\n",
      "6 0.998911759218954\n",
      "9 1.0\n",
      "11 1.0\n",
      "12 0.9998631908860256\n",
      "15 0.9998694094821153\n",
      "18 1.0\n",
      "21 1.0\n",
      "24 1.0\n",
      "27 1.0\n",
      "30 1.0\n",
      "36 1.0\n",
      "39 1.0\n",
      "41 1.0\n",
      "45 1.0\n",
      "48 1.0\n",
      "51 0.9998942838664743\n",
      "54 0.999900502462564\n",
      "57 1.0\n",
      "60 1.0\n",
      "63 1.0\n",
      "66 1.0\n",
      "69 1.0\n",
      "70 0.9999253768469231\n",
      "72 1.0\n",
      "75 1.0\n"
     ]
    },
    {
     "name": "stderr",
     "output_type": "stream",
     "text": [
      "/tmp/ipykernel_637/33834483.py:3: RuntimeWarning: invalid value encountered in long_scalars\n",
      "  hit_rate = float((dfidx[dfidx['tm'] == 'hit']['tm'].count()) / dfidx['tm'].count())\n"
     ]
    },
    {
     "name": "stdout",
     "output_type": "stream",
     "text": [
      "78 1.0\n",
      "81 1.0\n",
      "84 1.0\n",
      "87 1.0\n",
      "90 1.0\n",
      "96 1.0\n",
      "99 1.0\n",
      "105 1.0\n",
      "108 1.0\n",
      "111 0.9998880652703845\n",
      "114 1.0\n",
      "117 1.0\n",
      "120 1.0\n",
      "123 1.0\n",
      "126 1.0\n",
      "180 1.0\n",
      "200 1.0\n",
      "205 0.9999440326351923\n",
      "253 1.0\n"
     ]
    }
   ],
   "source": [
    "for idx, prio in enumerate(prios):\n",
    "    dfidx = hm_dfs[1][hm_dfs[1]['prio'] == prio]\n",
    "    hit_rate = float((dfidx[dfidx['tm'] == 'hit']['tm'].count()) / dfidx['tm'].count())\n",
    "    print(prio, hit_rate)\n"
   ]
  },
  {
   "cell_type": "code",
   "execution_count": 44,
   "id": "22912be9",
   "metadata": {},
   "outputs": [
    {
     "name": "stdout",
     "output_type": "stream",
     "text": [
      "3 nan\n",
      "6 0.9991024315944079\n",
      "9 1.0\n",
      "11 0.9999728002175983\n",
      "12 0.9998504032312902\n",
      "15 0.9999728005875073\n",
      "18 1.0\n",
      "21 1.0\n",
      "24 1.0\n",
      "27 1.0\n",
      "30 1.0\n",
      "36 1.0\n",
      "39 1.0\n",
      "41 1.0\n",
      "45 1.0\n",
      "48 1.0\n",
      "51 0.9998912023500293\n",
      "54 0.9998096041125512\n",
      "57 1.0\n",
      "60 1.0\n",
      "63 1.0\n",
      "66 1.0\n",
      "69 1.0\n",
      "70 0.9999456011750146\n",
      "72 1.0\n",
      "75 0.999963732637\n",
      "78 1.0\n",
      "81 1.0\n",
      "84 1.0\n",
      "87 1.0\n",
      "90 1.0\n",
      "96 1.0\n",
      "99 1.0\n",
      "105 1.0\n",
      "108 1.0\n",
      "111 0.9998640029375365\n",
      "114 1.0\n",
      "117 1.0\n",
      "120 1.0\n",
      "123 1.0\n",
      "126 1.0\n",
      "180 1.0\n",
      "200 1.0\n",
      "205 0.9999456011750146\n",
      "253 1.0\n"
     ]
    },
    {
     "name": "stderr",
     "output_type": "stream",
     "text": [
      "/tmp/ipykernel_637/1471937313.py:3: RuntimeWarning: invalid value encountered in long_scalars\n",
      "  hit_rate = float((dfidx[dfidx['tm'] == 'hit']['tm'].count()) / dfidx['tm'].count())\n"
     ]
    }
   ],
   "source": [
    "for idx, prio in enumerate(prios):\n",
    "    dfidx = hm_dfs[3][hm_dfs[3]['prio'] == prio]\n",
    "    hit_rate = float((dfidx[dfidx['tm'] == 'hit']['tm'].count()) / dfidx['tm'].count())\n",
    "    print(prio, hit_rate)\n"
   ]
  },
  {
   "cell_type": "code",
   "execution_count": 45,
   "id": "501bd17e",
   "metadata": {},
   "outputs": [],
   "source": [
    "def ecdf(data):\n",
    "    \"\"\"Compute the empirical cumulative distribution function.\"\"\"\n",
    "    sorted_data = np.sort(data)\n",
    "    n = len(data)\n",
    "    return sorted_data, np.arange(1, n+1) / n"
   ]
  },
  {
   "cell_type": "code",
   "execution_count": 46,
   "id": "93da71a4",
   "metadata": {},
   "outputs": [
    {
     "data": {
      "text/plain": [
       "<matplotlib.legend.Legend at 0x7f49eb67f850>"
      ]
     },
     "execution_count": 46,
     "metadata": {},
     "output_type": "execute_result"
    },
    {
     "data": {
      "image/png": "[encoded data removed]",
      "text/plain": [
       "<Figure size 640x480 with 1 Axes>"
      ]
     },
     "metadata": {},
     "output_type": "display_data"
    }
   ],
   "source": [
    "# The cdf for task.prio==6\n",
    "prio = 6\n",
    "for i in range(len(filename)):\n",
    "    dfidx = tm_dfs[i][tm_dfs[i]['prio'] == prio]['tm'].to_numpy()\n",
    "    x, y = ecdf(dfidx)\n",
    "    plt.plot(x,y,label=f\"dataset {i}\",lw=0.5)\n",
    "\n",
    "plt.legend()\n",
    "plt.legend([0,3000])\n"
   ]
  },
  {
   "cell_type": "code",
   "execution_count": 47,
   "id": "20bd5a6c",
   "metadata": {},
   "outputs": [
    {
     "data": {
      "text/plain": [
       "(0.0, 500.0)"
      ]
     },
     "execution_count": 47,
     "metadata": {},
     "output_type": "execute_result"
    },
    {
     "data": {
      "image/png": "[encoded data removed]",
      "text/plain": [
       "<Figure size 640x480 with 1 Axes>"
      ]
     },
     "metadata": {},
     "output_type": "display_data"
    }
   ],
   "source": [
    "# The cdf for task.prio==6\n",
    "prio = 9\n",
    "for i in range(len(filename)):\n",
    "    dfidx = tm_dfs[i][tm_dfs[i]['prio'] == prio]['tm'].to_numpy()\n",
    "    x, y = ecdf(dfidx)\n",
    "    plt.plot(x,y,label=f\"dataset {i}\",lw=0.5)\n",
    "\n",
    "plt.legend()\n",
    "plt.xlim([0,500])\n"
   ]
  },
  {
   "cell_type": "code",
   "execution_count": 48,
   "id": "bafb63a7",
   "metadata": {},
   "outputs": [
    {
     "data": {
      "text/plain": [
       "(0.0, 500.0)"
      ]
     },
     "execution_count": 48,
     "metadata": {},
     "output_type": "execute_result"
    },
    {
     "data": {
      "image/png": "[encoded data removed]",
      "text/plain": [
       "<Figure size 640x480 with 1 Axes>"
      ]
     },
     "metadata": {},
     "output_type": "display_data"
    }
   ],
   "source": [
    "# The cdf for task.prio==6\n",
    "prio = 51\n",
    "for i in range(len(filename)):\n",
    "    dfidx = tm_dfs[i][tm_dfs[i]['prio'] == prio]['tm'].to_numpy()\n",
    "    x, y = ecdf(dfidx)\n",
    "    plt.plot(x,y,label=f\"dataset {i}\",lw=0.5)\n",
    "\n",
    "plt.legend()\n",
    "plt.xlim([0,500])\n"
   ]
  },
  {
   "cell_type": "code",
   "execution_count": 49,
   "id": "d8ad9252",
   "metadata": {},
   "outputs": [],
   "source": [
    "with open(\"tasks/prios.txt\", 'w') as f:\n",
    "    f.write(f\"{prios.tolist()}\\n\")"
   ]
  },
  {
   "cell_type": "code",
   "execution_count": 52,
   "id": "848d60ea",
   "metadata": {},
   "outputs": [
    {
     "ename": "ValueError",
     "evalue": "The truth value of a Series is ambiguous. Use a.empty, a.bool(), a.item(), a.any() or a.all().",
     "output_type": "error",
     "traceback": [
      "\u001b[0;31m---------------------------------------------------------------------------\u001b[0m",
      "\u001b[0;31mValueError\u001b[0m                                Traceback (most recent call last)",
      "\u001b[0;32m/tmp/ipykernel_637/1475198201.py\u001b[0m in \u001b[0;36m<module>\u001b[0;34m\u001b[0m\n\u001b[1;32m      3\u001b[0m     \u001b[0mpers_all\u001b[0m \u001b[0;34m=\u001b[0m \u001b[0;34m[\u001b[0m\u001b[0;34m]\u001b[0m\u001b[0;34m\u001b[0m\u001b[0;34m\u001b[0m\u001b[0m\n\u001b[1;32m      4\u001b[0m     \u001b[0;32mfor\u001b[0m \u001b[0mi\u001b[0m \u001b[0;32min\u001b[0m \u001b[0mrange\u001b[0m\u001b[0;34m(\u001b[0m\u001b[0mlen\u001b[0m\u001b[0;34m(\u001b[0m\u001b[0mfilename\u001b[0m\u001b[0;34m)\u001b[0m\u001b[0;34m)\u001b[0m\u001b[0;34m:\u001b[0m\u001b[0;34m\u001b[0m\u001b[0;34m\u001b[0m\u001b[0m\n\u001b[0;32m----> 5\u001b[0;31m         \u001b[0mdfidx\u001b[0m \u001b[0;34m=\u001b[0m \u001b[0mtm_dfs\u001b[0m\u001b[0;34m[\u001b[0m\u001b[0mi\u001b[0m\u001b[0;34m]\u001b[0m\u001b[0;34m[\u001b[0m\u001b[0mtm_dfs\u001b[0m\u001b[0;34m[\u001b[0m\u001b[0mi\u001b[0m\u001b[0;34m]\u001b[0m\u001b[0;34m[\u001b[0m\u001b[0;34m'prio'\u001b[0m\u001b[0;34m]\u001b[0m \u001b[0;34m==\u001b[0m \u001b[0mprio\u001b[0m \u001b[0;34m&\u001b[0m \u001b[0mtm_dfs\u001b[0m\u001b[0;34m[\u001b[0m\u001b[0mi\u001b[0m\u001b[0;34m]\u001b[0m\u001b[0;34m[\u001b[0m\u001b[0;34m'tm'\u001b[0m\u001b[0;34m]\u001b[0m \u001b[0;34m<\u001b[0m \u001b[0mperiods\u001b[0m\u001b[0;34m[\u001b[0m\u001b[0midx\u001b[0m\u001b[0;34m]\u001b[0m\u001b[0;34m]\u001b[0m\u001b[0;34m[\u001b[0m\u001b[0;34m'tm'\u001b[0m\u001b[0;34m]\u001b[0m\u001b[0;34m.\u001b[0m\u001b[0mto_numpy\u001b[0m\u001b[0;34m(\u001b[0m\u001b[0;34m)\u001b[0m\u001b[0;34m\u001b[0m\u001b[0;34m\u001b[0m\u001b[0m\n\u001b[0m\u001b[1;32m      6\u001b[0m         \u001b[0mpers\u001b[0m \u001b[0;34m=\u001b[0m \u001b[0mnp\u001b[0m\u001b[0;34m.\u001b[0m\u001b[0mpercentile\u001b[0m\u001b[0;34m(\u001b[0m\u001b[0mdfidx\u001b[0m\u001b[0;34m,\u001b[0m \u001b[0mpers_idx\u001b[0m\u001b[0;34m)\u001b[0m\u001b[0;34m\u001b[0m\u001b[0;34m\u001b[0m\u001b[0m\n\u001b[1;32m      7\u001b[0m         \u001b[0mpers_all\u001b[0m\u001b[0;34m.\u001b[0m\u001b[0mappend\u001b[0m\u001b[0;34m(\u001b[0m\u001b[0mpers\u001b[0m\u001b[0;34m)\u001b[0m\u001b[0;34m\u001b[0m\u001b[0;34m\u001b[0m\u001b[0m\n",
      "\u001b[0;32m~/anaconda3/lib/python3.9/site-packages/pandas/core/generic.py\u001b[0m in \u001b[0;36m__nonzero__\u001b[0;34m(self)\u001b[0m\n\u001b[1;32m   1525\u001b[0m     \u001b[0;34m@\u001b[0m\u001b[0mfinal\u001b[0m\u001b[0;34m\u001b[0m\u001b[0;34m\u001b[0m\u001b[0m\n\u001b[1;32m   1526\u001b[0m     \u001b[0;32mdef\u001b[0m \u001b[0m__nonzero__\u001b[0m\u001b[0;34m(\u001b[0m\u001b[0mself\u001b[0m\u001b[0;34m)\u001b[0m\u001b[0;34m:\u001b[0m\u001b[0;34m\u001b[0m\u001b[0;34m\u001b[0m\u001b[0m\n\u001b[0;32m-> 1527\u001b[0;31m         raise ValueError(\n\u001b[0m\u001b[1;32m   1528\u001b[0m             \u001b[0;34mf\"The truth value of a {type(self).__name__} is ambiguous. \"\u001b[0m\u001b[0;34m\u001b[0m\u001b[0;34m\u001b[0m\u001b[0m\n\u001b[1;32m   1529\u001b[0m             \u001b[0;34m\"Use a.empty, a.bool(), a.item(), a.any() or a.all().\"\u001b[0m\u001b[0;34m\u001b[0m\u001b[0;34m\u001b[0m\u001b[0m\n",
      "\u001b[0;31mValueError\u001b[0m: The truth value of a Series is ambiguous. Use a.empty, a.bool(), a.item(), a.any() or a.all()."
     ]
    }
   ],
   "source": [
    "pers_idx = np.arange(1, 1001) / 10\n",
    "for idx, prio in enumerate(prios):\n",
    "    pers_all = []\n",
    "    for i in range(len(filename)):\n",
    "        dfidx = tm_dfs[i][tm_dfs[i]['tm'] < periods[idx]]\n",
    "        dfidx = dfidx[dfidx['prio'] == prio]['tm'].to_numpy()\n",
    "        pers = np.percentile(dfidx, pers_idx)\n",
    "        pers_all.append(pers)\n",
    "    pers_max = np.max(np.array(pers_all), axis=0)\n",
    "    with open(f\"tasks/{prio}.txt\", 'w') as f:\n",
    "        f.write(f\"{periods[idx]}\\n\")\n",
    "        f.write(f\"{pers_max.tolist()}\")"
   ]
  }
 ],
 "metadata": {
  "kernelspec": {
   "display_name": "Python 3 (ipykernel)",
   "language": "python",
   "name": "python3"
  },
  "language_info": {
   "codemirror_mode": {
    "name": "ipython",
    "version": 3
   },
   "file_extension": ".py",
   "mimetype": "text/x-python",
   "name": "python",
   "nbconvert_exporter": "python",
   "pygments_lexer": "ipython3",
   "version": "3.9.13"
  }
 },
 "nbformat": 4,
 "nbformat_minor": 5
}
